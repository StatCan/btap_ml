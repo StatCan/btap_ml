{
 "cells": [
  {
   "cell_type": "code",
   "execution_count": 1,
   "metadata": {
    "execution": {
     "iopub.execute_input": "2021-09-27T03:13:10.076807Z",
     "iopub.status.busy": "2021-09-27T03:13:10.076517Z",
     "iopub.status.idle": "2021-09-27T03:13:10.085515Z",
     "shell.execute_reply": "2021-09-27T03:13:10.084798Z",
     "shell.execute_reply.started": "2021-09-27T03:13:10.076740Z"
    },
    "tags": []
   },
   "outputs": [],
   "source": [
    "import tensorboard"
   ]
  },
  {
   "cell_type": "code",
   "execution_count": 1,
   "metadata": {
    "execution": {
     "iopub.execute_input": "2021-09-28T15:35:47.058817Z",
     "iopub.status.busy": "2021-09-28T15:35:47.058455Z",
     "iopub.status.idle": "2021-09-28T15:35:47.070291Z",
     "shell.execute_reply": "2021-09-28T15:35:47.069578Z",
     "shell.execute_reply.started": "2021-09-28T15:35:47.058732Z"
    },
    "tags": []
   },
   "outputs": [],
   "source": [
    "# Load the TensorBoard notebook extension\n",
    "%load_ext tensorboard"
   ]
  },
  {
   "cell_type": "code",
   "execution_count": 8,
   "metadata": {
    "execution": {
     "iopub.execute_input": "2021-09-28T17:24:50.163187Z",
     "iopub.status.busy": "2021-09-28T17:24:50.162941Z",
     "iopub.status.idle": "2021-09-28T17:24:50.171071Z",
     "shell.execute_reply": "2021-09-28T17:24:50.170450Z",
     "shell.execute_reply.started": "2021-09-28T17:24:50.163163Z"
    },
    "tags": []
   },
   "outputs": [
    {
     "data": {
      "text/plain": [
       "Reusing TensorBoard on port 6007 (pid 10634), started 1:47:54 ago. (Use '!kill 10634' to kill it.)"
      ]
     },
     "metadata": {},
     "output_type": "display_data"
    },
    {
     "data": {
      "text/html": [
       "\n",
       "      <iframe id=\"tensorboard-frame-268e452d9a34e032\" width=\"100%\" height=\"800\" frameborder=\"0\">\n",
       "      </iframe>\n",
       "      <script>\n",
       "        (function() {\n",
       "          const frame = document.getElementById(\"tensorboard-frame-268e452d9a34e032\");\n",
       "          const url = new URL(\"/\", window.location);\n",
       "          const port = 6007;\n",
       "          if (port) {\n",
       "            url.port = port;\n",
       "          }\n",
       "          frame.src = url;\n",
       "        })();\n",
       "      </script>\n",
       "    "
      ],
      "text/plain": [
       "<IPython.core.display.HTML object>"
      ]
     },
     "metadata": {},
     "output_type": "display_data"
    }
   ],
   "source": [
    "%tensorboard --logdir  ./parameter_search/btap/\n",
    "#https://kubeflow.aaw.cloud.statcan.ca/notebook/nrcan-btap/reg-cpu-notebook/proxy/6007/"
   ]
  },
  {
   "cell_type": "code",
   "execution_count": null,
   "metadata": {},
   "outputs": [],
   "source": [
    "#python -m tensorboard.main --logdir=\"./parameter_search/btap/\""
   ]
  },
  {
   "cell_type": "code",
   "execution_count": null,
   "metadata": {},
   "outputs": [],
   "source": []
  }
 ],
 "metadata": {
  "kernelspec": {
   "display_name": "Python 3",
   "language": "python",
   "name": "python3"
  },
  "language_info": {
   "codemirror_mode": {
    "name": "ipython",
    "version": 3
   },
   "file_extension": ".py",
   "mimetype": "text/x-python",
   "name": "python",
   "nbconvert_exporter": "python",
   "pygments_lexer": "ipython3",
   "version": "3.8.8"
  }
 },
 "nbformat": 4,
 "nbformat_minor": 4
}
